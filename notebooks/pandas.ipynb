{
 "cells": [
  {
   "cell_type": "code",
   "execution_count": 1,
   "metadata": {},
   "outputs": [
    {
     "ename": "ModuleNotFoundError",
     "evalue": "No module named 'httpx'",
     "output_type": "error",
     "traceback": [
      "\u001b[0;31m---------------------------------------------------------------------------\u001b[0m",
      "\u001b[0;31mModuleNotFoundError\u001b[0m                       Traceback (most recent call last)",
      "Cell \u001b[0;32mIn[1], line 11\u001b[0m\n\u001b[1;32m      9\u001b[0m \u001b[38;5;28;01mfrom\u001b[39;00m \u001b[38;5;21;01mselenium\u001b[39;00m\u001b[38;5;21;01m.\u001b[39;00m\u001b[38;5;21;01mwebdriver\u001b[39;00m\u001b[38;5;21;01m.\u001b[39;00m\u001b[38;5;21;01mcommon\u001b[39;00m\u001b[38;5;21;01m.\u001b[39;00m\u001b[38;5;21;01mkeys\u001b[39;00m \u001b[38;5;28;01mimport\u001b[39;00m Keys\n\u001b[1;32m     10\u001b[0m \u001b[38;5;28;01mfrom\u001b[39;00m \u001b[38;5;21;01mconfig\u001b[39;00m \u001b[38;5;28;01mimport\u001b[39;00m Settings\n\u001b[0;32m---> 11\u001b[0m \u001b[38;5;28;01mimport\u001b[39;00m \u001b[38;5;21;01mhttpx\u001b[39;00m\n",
      "\u001b[0;31mModuleNotFoundError\u001b[0m: No module named 'httpx'"
     ]
    }
   ],
   "source": [
    "import os\n",
    "import sys\n",
    "sys.path.append(os.path.abspath(os.pardir))\n",
    "import pandas as pd\n",
    "import json\n",
    "import time\n",
    "from selenium import webdriver\n",
    "from selenium.webdriver.common.by import By\n",
    "from selenium.webdriver.common.keys import Keys\n",
    "from config import Settings\n"
   ]
  },
  {
   "cell_type": "code",
   "execution_count": 2,
   "metadata": {},
   "outputs": [],
   "source": [
    "s = Settings()"
   ]
  },
  {
   "cell_type": "code",
   "execution_count": 15,
   "metadata": {},
   "outputs": [],
   "source": [
    "# loads in 129_000 recent transactions on base\n",
    "df1 = pd.read_csv('transactions.csv')\n",
    "df2 = pd.read_csv('transactions_1.csv')\n",
    "df3 = pd.read_csv('transactions_2.csv')\n",
    "df4 = pd.read_csv('transactions_3.csv')\n",
    "df = pd.concat([df1, df2, df3, df4], ignore_index=True)\n",
    "df.drop(columns=['Column 1', 'Column 5', 'Column 8', 'Column 12'], inplace=True)\n",
    "df = df.rename(columns={\n",
    "    'Column 2': 'Txn Hash',\n",
    "    'Column 3': 'Method',\n",
    "    'Column 4': 'Block',\n",
    "    'Column 6': 'Age',\n",
    "    'Column 7': 'From',\n",
    "    'Column 9': 'To',\n",
    "    'Column 10': 'Value',\n",
    "    'Column 11': 'Txn Fee',\n",
    "})"
   ]
  },
  {
   "cell_type": "code",
   "execution_count": 68,
   "metadata": {},
   "outputs": [
    {
     "data": {
      "text/plain": [
       "(129000, 8)"
      ]
     },
     "execution_count": 68,
     "metadata": {},
     "output_type": "execute_result"
    }
   ],
   "source": [
    "df.shape"
   ]
  },
  {
   "cell_type": "code",
   "execution_count": 67,
   "metadata": {},
   "outputs": [],
   "source": [
    "# Displays the count of each unique value in the 'To' or 'From' column\n",
    "pd.set_option('display.max_rows', None)\n",
    "count = df['To'].value_counts()\n",
    "print(df.shape)\n",
    "print(count[:500])\n",
    "# filtered_df = df[df['From'] == '0x9c71226863d3db3a7de3402e3743fea8026dc9e0']\n",
    "# count = filtered_df['To'].value_counts()\n",
    "# print(count)"
   ]
  },
  {
   "cell_type": "code",
   "execution_count": 18,
   "metadata": {},
   "outputs": [
    {
     "name": "stdout",
     "output_type": "stream",
     "text": [
      "Uniswap V3: Staker 1.0.2\n",
      "Uniswap V3: Nonfungible Position Manager\n",
      "Aerodrome: Universal Router\n",
      "KyberSwap: Double Signatures Limit Order\n",
      "SwapBased: BASE Token\n",
      "DackieSwap : V2 Router\n",
      "Izumi Finance: swap\n",
      "Squid: Router\n",
      "DackieSwap : Non fungible Position Manager\n",
      "AlienBase: Router\n",
      "BSX Exchange: Contract\n",
      "Chainlink: CCIP Router\n",
      "ReHold: Router\n",
      "Zerion: Router\n",
      "PancakeSwap: Universal Router\n",
      "DackieSwap: DACKIE Token\n",
      "Uniswap: V2 Router02\n",
      "Odos:Router V2\n",
      "UNCX Lockers: UniSwap V3 LP\n",
      "Paraswap v5: Augustus Swapper\n",
      "Bitget Wallet: Swap Router v1\n",
      "Vela Exchange : Order Vault\n",
      "Synapse: Router\n",
      "Create: SolarSwap\n",
      "Banana Gun: Router\n",
      "SwapBased : Uniswap V2 Router 02\n",
      "PancakeSwap V3: Smart Router\n",
      "Uniswap: Universal Router V1 2 V2Support\n",
      "KyberSwap: Meta Aggregation Router v2\n",
      "1inch: Aggregation Router V6\n",
      "Uniswap: Universal Router V1 2\n",
      "0x: Exchange Proxy\n",
      "SwapBased : xBASE Token\n",
      "Aerodrome: Router\n",
      "Synthswap: MasterChef\n",
      "Uniswap: Universal Router\n",
      "Overnight Finance : Exchange\n",
      "OpenOcean: Exchange V2\n",
      "BaseSwap: BSWAP Token\n",
      "Nether.Fi : Reward Router V2\n",
      "Alfred: Router\n",
      "Bitget Wallet: Swap Bridge\n",
      "Synthswap: SYNTH Token\n",
      "Uniswap V3: Swap Router02\n",
      "1inch: Aggregation Router V5\n",
      "DackieSwap: QUACK Token\n",
      "Stargate: Router\n",
      "Sushi: Router v2\n",
      "Stargate: Router ETH\n",
      "XY Finance : XY Router\n"
     ]
    }
   ],
   "source": [
    "# finds teh contracts that have the keywords in the 'To' column\n",
    "keywords = ['swap', 'router', 'exchange']\n",
    "pattern = '|'.join(keywords)\n",
    "\n",
    "df_to_values = df[df['To'].str.contains(pattern, case=False, na=False)]['To']\n",
    "\n",
    "# Make the list unique\n",
    "unique_to_values = list(set(df_to_values))\n",
    "\n",
    "for value in unique_to_values:\n",
    "    print(value)"
   ]
  },
  {
   "cell_type": "code",
   "execution_count": 19,
   "metadata": {},
   "outputs": [
    {
     "name": "stdout",
     "output_type": "stream",
     "text": [
      "Contract addresses have been saved to contract_addresses.json\n"
     ]
    }
   ],
   "source": [
    "# Web scraping to find contract addresses\n",
    "\n",
    "# List of contract names\n",
    "contract_names = unique_to_values  # unique contract names from the previous step\n",
    "\n",
    "# Initialize the WebDriver (e.g., using Chrome)\n",
    "driver = webdriver.Chrome()\n",
    "\n",
    "# Function to search for a contract and extract the address\n",
    "def search_contract_and_get_address(contract_name):\n",
    "    # Open the website\n",
    "    driver.get(\"https://basescan.org/\")\n",
    "    \n",
    "    # Wait for the search bar to load\n",
    "    time.sleep(3)\n",
    "    \n",
    "    # Find the search bar and input the contract name\n",
    "    search_bar = driver.find_element(By.ID, \"txtSearchInput\")\n",
    "    search_bar.clear()\n",
    "    search_bar.send_keys(contract_name)\n",
    "    search_bar.send_keys(Keys.RETURN)\n",
    "    \n",
    "    # Wait for the results page to load\n",
    "    time.sleep(5)\n",
    "    \n",
    "    try:\n",
    "        # Extract the contract address\n",
    "        address_element = driver.find_element(By.ID, \"mainaddress\")\n",
    "        contract_address = address_element.text\n",
    "    except:\n",
    "        # If address is not found, return None\n",
    "        contract_address = None\n",
    "    \n",
    "    return contract_address\n",
    "\n",
    "# Dictionary to store contract names and addresses\n",
    "contract_data = {}\n",
    "\n",
    "# Iterate through the contract names and get their addresses\n",
    "for name in contract_names:\n",
    "    address = search_contract_and_get_address(name)\n",
    "    if address:\n",
    "        contract_data[name] = address\n",
    "    else:\n",
    "        contract_data[name] = \"Address not found\"\n",
    "    time.sleep(2)  # Add delay to avoid overloading the server\n",
    "\n",
    "# Close the WebDriver\n",
    "driver.quit()\n",
    "\n",
    "# Save the results to a JSON file\n",
    "with open(\"contract_addresses.json\", \"w\") as json_file:\n",
    "    json.dump(contract_data, json_file, indent=4)\n",
    "\n",
    "print(\"Contract addresses have been saved to contract_addresses.json\")\n"
   ]
  },
  {
   "cell_type": "markdown",
   "metadata": {},
   "source": [
    "# Obtaining ABIs"
   ]
  },
  {
   "cell_type": "code",
   "execution_count": 37,
   "metadata": {},
   "outputs": [],
   "source": [
    "with open('contract_addresses.json') as f:\n",
    "    data = json.load(f)"
   ]
  },
  {
   "cell_type": "code",
   "execution_count": 27,
   "metadata": {},
   "outputs": [
    {
     "name": "stdout",
     "output_type": "stream",
     "text": [
      "Bitget Wallet: Swap Router v1\n"
     ]
    }
   ],
   "source": [
    "# Function to get the key from a value in a dictionary. Used to get the name of the contract from the address.\n",
    "def get_key(val):\n",
    "    for key, value in data.items():\n",
    "        if val in value:\n",
    "            return key\n",
    "    return \"key doesn't exist\"\n",
    "\n",
    "print(get_key(data['Bitget Wallet: Swap Router v1']))"
   ]
  },
  {
   "cell_type": "code",
   "execution_count": 48,
   "metadata": {},
   "outputs": [],
   "source": [
    "# Function to split the input string by a delimiter and replace spaces with underscores\n",
    "def split_and_replace(s, delimiter=':'):\n",
    "    parts = s.split(delimiter)\n",
    "    if len(parts) != 2:\n",
    "        raise ValueError(\"Input string should contain exactly one delimiter\")\n",
    "    folder = parts[0].strip().replace(' ', '_')\n",
    "    file = parts[1].strip().replace(' ', '_')\n",
    "    return folder, file"
   ]
  },
  {
   "cell_type": "code",
   "execution_count": 11,
   "metadata": {},
   "outputs": [],
   "source": [
    "# creates folder and writes abi to file\n",
    "def write_json_to_file(folder, filename, data):\n",
    "    # Ensure the folder exists\n",
    "    os.makedirs(folder, exist_ok=True)\n",
    "\n",
    "    # Create the full file path\n",
    "    file_path = os.path.join(folder, filename)\n",
    "\n",
    "    # Write the data to the file\n",
    "    with open(file_path + \".json\", 'w') as f:\n",
    "        json.dump(data, f)"
   ]
  },
  {
   "cell_type": "code",
   "execution_count": 64,
   "metadata": {},
   "outputs": [],
   "source": [
    "# Calls basescan api to grab abi's\n",
    "def get_abi(address):\n",
    "    url = f\"\"\"https://api.basescan.org/api?module=contract&action=getabi&address={address}&apikey={s.base_scan_api_key}\"\"\"\n",
    "    response = requests.get(url)\n",
    "    if response.status_code == 200:\n",
    "        r = response.json()\n",
    "        abi_string = r['result']\n",
    "        try:\n",
    "            abi = json.loads(abi_string)\n",
    "            return abi\n",
    "        except json.JSONDecodeError:\n",
    "            return None\n",
    "    else:\n",
    "        return None"
   ]
  },
  {
   "cell_type": "code",
   "execution_count": 65,
   "metadata": {},
   "outputs": [
    {
     "name": "stdout",
     "output_type": "stream",
     "text": [
      "('Uniswap_V3', 'Staker_1.0.2')\n",
      "('Aerodrome', 'Universal_Router')\n",
      "('SwapBased', 'BASE_Token')\n",
      "('DackieSwap', 'V2_Router')\n",
      "('Izumi_Finance', 'swap')\n",
      "('Squid', 'Router')\n",
      "('DackieSwap', 'Non_fungible_Position_Manager')\n",
      "('AlienBase', 'Router')\n",
      "('BSX_Exchange', 'Contract')\n",
      "('Chainlink', 'CCIP_Router')\n",
      "('ReHold', 'Router')\n",
      "('Zerion', 'Router')\n",
      "('PancakeSwap', 'Universal_Router')\n",
      "('DackieSwap', 'DACKIE_Token')\n",
      "('Uniswap', 'V2_Router02')\n",
      "('Odos', 'Router_V2')\n",
      "('UNCX_Lockers', 'UniSwap_V3_LP')\n",
      "('Paraswap_v5', 'Augustus_Swapper')\n",
      "('Bitget_Wallet', 'Swap_Router_v1')\n",
      "('Vela_Exchange', 'Order_Vault')\n",
      "('Synapse', 'Router')\n",
      "('Banana_Gun', 'Router')\n",
      "('SwapBased', 'Uniswap_V2_Router_02')\n",
      "('PancakeSwap_V3', 'Smart_Router')\n",
      "('Uniswap', 'Universal_Router_V1_2_V2Support')\n",
      "('KyberSwap', 'Meta_Aggregation_Router_v2')\n",
      "('1inch', 'Aggregation_Router_V6')\n",
      "('Uniswap', 'Universal_Router_V1_2')\n",
      "('0x', 'Exchange_Proxy')\n",
      "('SwapBased', 'xBASE_Token')\n",
      "('Aerodrome', 'Router')\n",
      "('Synthswap', 'MasterChef')\n",
      "('Uniswap', 'Universal_Router')\n",
      "('Overnight_Finance', 'Exchange')\n",
      "('OpenOcean', 'Exchange_V2')\n",
      "('BaseSwap', 'BSWAP_Token')\n",
      "('Nether.Fi', 'Reward_Router_V2')\n",
      "('Alfred', 'Router')\n",
      "('Bitget_Wallet', 'Swap_Bridge')\n",
      "('Synthswap', 'SYNTH_Token')\n",
      "('Uniswap_V3', 'Swap_Router02')\n",
      "('1inch', 'Aggregation_Router_V5')\n",
      "('DackieSwap', 'QUACK_Token')\n",
      "('Stargate', 'Router')\n",
      "('Sushi', 'Router_v2')\n",
      "('Stargate', 'Router_ETH')\n",
      "('XY_Finance', 'XY_Router')\n"
     ]
    }
   ],
   "source": [
    "# run the functions\n",
    "for address in data.values():\n",
    "    print(split_and_replace(get_key(address)))\n",
    "    abi = get_abi(address)\n",
    "    if abi:\n",
    "        folder, file = split_and_replace(get_key(address))\n",
    "        write_json_to_file(folder, file, abi)\n",
    "    time.sleep(1)"
   ]
  },
  {
   "cell_type": "markdown",
   "metadata": {},
   "source": [
    "# Getting Tokens From Coin gecko"
   ]
  },
  {
   "cell_type": "code",
   "execution_count": 3,
   "metadata": {},
   "outputs": [
    {
     "ename": "ModuleNotFoundError",
     "evalue": "No module named 'httpx'",
     "output_type": "error",
     "traceback": [
      "\u001b[0;31m---------------------------------------------------------------------------\u001b[0m",
      "\u001b[0;31mModuleNotFoundError\u001b[0m                       Traceback (most recent call last)",
      "Cell \u001b[0;32mIn[3], line 4\u001b[0m\n\u001b[1;32m      2\u001b[0m \u001b[38;5;28;01mfrom\u001b[39;00m \u001b[38;5;21;01mpydantic\u001b[39;00m \u001b[38;5;28;01mimport\u001b[39;00m BaseModel\n\u001b[1;32m      3\u001b[0m \u001b[38;5;28;01mimport\u001b[39;00m \u001b[38;5;21;01mrequests\u001b[39;00m\n\u001b[0;32m----> 4\u001b[0m \u001b[38;5;28;01mimport\u001b[39;00m \u001b[38;5;21;01mhttpx\u001b[39;00m\n\u001b[1;32m      5\u001b[0m \u001b[38;5;28;01mclass\u001b[39;00m \u001b[38;5;21;01mToken\u001b[39;00m(BaseModel):\n\u001b[1;32m      6\u001b[0m     \u001b[38;5;28mid\u001b[39m: \u001b[38;5;28mstr\u001b[39m\n",
      "\u001b[0;31mModuleNotFoundError\u001b[0m: No module named 'httpx'"
     ]
    }
   ],
   "source": [
    "from typing import Dict\n",
    "from pydantic import BaseModel\n",
    "import requests\n",
    "\n",
    "class Token(BaseModel):\n",
    "    id: str\n",
    "    symbol: str\n",
    "    name: str\n",
    "    platforms: Dict[str, str]\n",
    "\n",
    "\n",
    "url = \"https://api.coingecko.com/api/v3/coins/list?include_platform=true\"\n",
    "\n",
    "headers = {\n",
    "    \"accept\": \"application/json\",\n",
    "    \"x-cg-pro-api-key\": s.coin_gecko_api_key\n",
    "}\n",
    "\n",
    "response = httpx.get(url, headers=headers)\n",
    "tokens = [Token(**token) for token in response.json()]\n",
    "base_tokens = [token for token in tokens if 'base' in token.platforms]"
   ]
  },
  {
   "cell_type": "code",
   "execution_count": 13,
   "metadata": {},
   "outputs": [],
   "source": [
    "tokens = []\n",
    "for token in base_tokens:\n",
    "    token = {\n",
    "        'id': token.id,\n",
    "        'symbol': token.symbol,\n",
    "        'name': token.name,\n",
    "        'address': token.platforms['base']    \n",
    "        }\n",
    "    tokens.append(token)\n",
    "    \n",
    "\n",
    "write_json_to_file('tokens', 'base_tokens', tokens)"
   ]
  },
  {
   "cell_type": "markdown",
   "metadata": {},
   "source": []
  },
  {
   "cell_type": "markdown",
   "metadata": {},
   "source": []
  },
  {
   "cell_type": "code",
   "execution_count": 7,
   "metadata": {},
   "outputs": [],
   "source": [
    "\n",
    "def get_coin_market_data(coin_id: str):\n",
    "    url = f\"https://api.coingecko.com/api/v3/coins/markets?vs_currency=usd&ids={coin_id}\"\n",
    "    headers = {\"accept\": \"application/json\"}\n",
    "    response = requests.get(url, headers=headers)\n",
    "    return response.json()\n"
   ]
  },
  {
   "cell_type": "code",
   "execution_count": 8,
   "metadata": {},
   "outputs": [
    {
     "data": {
      "text/plain": [
       "[{'id': '2fai',\n",
       "  'symbol': '2fai',\n",
       "  'name': '2FAI',\n",
       "  'image': 'https://coin-images.coingecko.com/coins/images/36348/large/logo192.png?1711188000',\n",
       "  'current_price': 0.00045356,\n",
       "  'market_cap': 0.0,\n",
       "  'market_cap_rank': None,\n",
       "  'fully_diluted_valuation': 45356,\n",
       "  'total_volume': 955.7,\n",
       "  'high_24h': 0.00050662,\n",
       "  'low_24h': 0.00045126,\n",
       "  'price_change_24h': -5.3063863846239e-05,\n",
       "  'price_change_percentage_24h': -10.47408,\n",
       "  'market_cap_change_24h': 0.0,\n",
       "  'market_cap_change_percentage_24h': 0.0,\n",
       "  'circulating_supply': 0.0,\n",
       "  'total_supply': 100000000.0,\n",
       "  'max_supply': None,\n",
       "  'ath': 0.02240107,\n",
       "  'ath_change_percentage': -97.9821,\n",
       "  'ath_date': '2024-03-27T00:04:18.476Z',\n",
       "  'atl': 0.00045126,\n",
       "  'atl_change_percentage': 0.17118,\n",
       "  'atl_date': '2024-06-11T02:30:46.830Z',\n",
       "  'roi': None,\n",
       "  'last_updated': '2024-06-11T03:30:31.488Z'}]"
      ]
     },
     "execution_count": 8,
     "metadata": {},
     "output_type": "execute_result"
    }
   ],
   "source": [
    "get_coin_market_data(base_tokens[0].id)"
   ]
  },
  {
   "cell_type": "code",
   "execution_count": null,
   "metadata": {},
   "outputs": [],
   "source": []
  }
 ],
 "metadata": {
  "kernelspec": {
   "display_name": "venv",
   "language": "python",
   "name": "python3"
  },
  "language_info": {
   "codemirror_mode": {
    "name": "ipython",
    "version": 3
   },
   "file_extension": ".py",
   "mimetype": "text/x-python",
   "name": "python",
   "nbconvert_exporter": "python",
   "pygments_lexer": "ipython3",
   "version": "3.11.3"
  }
 },
 "nbformat": 4,
 "nbformat_minor": 2
}
