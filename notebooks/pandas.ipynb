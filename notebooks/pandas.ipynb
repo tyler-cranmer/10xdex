{
 "cells": [
  {
   "cell_type": "code",
   "execution_count": 16,
   "metadata": {},
   "outputs": [],
   "source": [
    "import os\n",
    "import sys\n",
    "sys.path.append(os.path.abspath(os.pardir))\n",
    "import pandas as pd\n",
    "from config import Settings"
   ]
  },
  {
   "cell_type": "code",
   "execution_count": 17,
   "metadata": {},
   "outputs": [],
   "source": [
    "s = Settings()"
   ]
  },
  {
   "cell_type": "code",
   "execution_count": 25,
   "metadata": {},
   "outputs": [],
   "source": [
    "df1 = pd.read_csv('transactions_1.csv')\n",
    "df2 = pd.read_csv('transactions_1.csv')\n",
    "df = pd.concat([df1, df2], ignore_index=True)\n",
    "df.drop(columns=['Column 1', 'Column 5', 'Column 8', 'Column 12'], inplace=True)\n",
    "df = df.rename(columns={\n",
    "    'Column 2': 'Txn Hash',\n",
    "    'Column 3': 'Method',\n",
    "    'Column 4': 'Block',\n",
    "    'Column 6': 'Age',\n",
    "    'Column 7': 'From',\n",
    "    'Column 9': 'To',\n",
    "    'Column 10': 'Value',\n",
    "    'Column 11': 'Txn Fee',\n",
    "})"
   ]
  },
  {
   "cell_type": "code",
   "execution_count": 11,
   "metadata": {},
   "outputs": [
    {
     "data": {
      "text/html": [
       "<div>\n",
       "<style scoped>\n",
       "    .dataframe tbody tr th:only-of-type {\n",
       "        vertical-align: middle;\n",
       "    }\n",
       "\n",
       "    .dataframe tbody tr th {\n",
       "        vertical-align: top;\n",
       "    }\n",
       "\n",
       "    .dataframe thead th {\n",
       "        text-align: right;\n",
       "    }\n",
       "</style>\n",
       "<table border=\"1\" class=\"dataframe\">\n",
       "  <thead>\n",
       "    <tr style=\"text-align: right;\">\n",
       "      <th></th>\n",
       "      <th>Txn Hash</th>\n",
       "      <th>Method</th>\n",
       "      <th>Block</th>\n",
       "      <th>Age</th>\n",
       "      <th>From</th>\n",
       "      <th>To</th>\n",
       "      <th>Value</th>\n",
       "      <th>Txn Fee</th>\n",
       "    </tr>\n",
       "  </thead>\n",
       "  <tbody>\n",
       "    <tr>\n",
       "      <th>0</th>\n",
       "      <td>0x6d20460ef08897c2c381cb81da0e51a9c31b124aee7a...</td>\n",
       "      <td>0x0e0f4449</td>\n",
       "      <td>15193392</td>\n",
       "      <td>3 secs ago</td>\n",
       "      <td>0xd7a23f3f45e09110a563758963aca34ef63373c3</td>\n",
       "      <td>0xfb57ba87b4be65337352f31cc83899e069f19434</td>\n",
       "      <td>0 ETH</td>\n",
       "      <td>4.580000e-06</td>\n",
       "    </tr>\n",
       "    <tr>\n",
       "      <th>1</th>\n",
       "      <td>0x77537c6504c07c0668003950959fd380cbda2da0d194...</td>\n",
       "      <td>Approve</td>\n",
       "      <td>15193392</td>\n",
       "      <td>3 secs ago</td>\n",
       "      <td>0xaa3ef75d3087e74314bec570bbaec804bded12f9</td>\n",
       "      <td>0x000000000022d473030f116ddee9f6b43ac78ba3</td>\n",
       "      <td>0 ETH</td>\n",
       "      <td>7.000000e-08</td>\n",
       "    </tr>\n",
       "    <tr>\n",
       "      <th>2</th>\n",
       "      <td>0x211f0142b54da17a0109ebd279c5aec7e0831dd9e5fc...</td>\n",
       "      <td>Execute</td>\n",
       "      <td>15193392</td>\n",
       "      <td>3 secs ago</td>\n",
       "      <td>0xf3780b2e60306eeafd5c6b7381a0c141d7c3c378</td>\n",
       "      <td>Uniswap: Universal Router V1 2 V2Support</td>\n",
       "      <td>0 ETH</td>\n",
       "      <td>2.600000e-07</td>\n",
       "    </tr>\n",
       "    <tr>\n",
       "      <th>3</th>\n",
       "      <td>0xf689cd49486bbd641a1ba1663e19fe900b451aa7f478...</td>\n",
       "      <td>Execute</td>\n",
       "      <td>15193392</td>\n",
       "      <td>3 secs ago</td>\n",
       "      <td>0xf6e20815d62b80a53a6ca135f40ff496f7e7e9ca</td>\n",
       "      <td>Uniswap: Universal Router V1 2 V2Support</td>\n",
       "      <td>0.027 ETH</td>\n",
       "      <td>2.600000e-07</td>\n",
       "    </tr>\n",
       "    <tr>\n",
       "      <th>4</th>\n",
       "      <td>0x056540f5969b75de89ba879f724e6a3dc6722ade61b6...</td>\n",
       "      <td>Mint With Reward...</td>\n",
       "      <td>15193392</td>\n",
       "      <td>3 secs ago</td>\n",
       "      <td>0xbf5523b608a0b2e6a1ac553191d881d7de8318cb</td>\n",
       "      <td>0x34ee9c5307d2bbcbf0c961b14eea7faaaa2dbf21</td>\n",
       "      <td>0.000777 ETH</td>\n",
       "      <td>1.900000e-07</td>\n",
       "    </tr>\n",
       "  </tbody>\n",
       "</table>\n",
       "</div>"
      ],
      "text/plain": [
       "                                            Txn Hash               Method  \\\n",
       "0  0x6d20460ef08897c2c381cb81da0e51a9c31b124aee7a...           0x0e0f4449   \n",
       "1  0x77537c6504c07c0668003950959fd380cbda2da0d194...              Approve   \n",
       "2  0x211f0142b54da17a0109ebd279c5aec7e0831dd9e5fc...              Execute   \n",
       "3  0xf689cd49486bbd641a1ba1663e19fe900b451aa7f478...              Execute   \n",
       "4  0x056540f5969b75de89ba879f724e6a3dc6722ade61b6...  Mint With Reward...   \n",
       "\n",
       "      Block         Age                                        From  \\\n",
       "0  15193392  3 secs ago  0xd7a23f3f45e09110a563758963aca34ef63373c3   \n",
       "1  15193392  3 secs ago  0xaa3ef75d3087e74314bec570bbaec804bded12f9   \n",
       "2  15193392  3 secs ago  0xf3780b2e60306eeafd5c6b7381a0c141d7c3c378   \n",
       "3  15193392  3 secs ago  0xf6e20815d62b80a53a6ca135f40ff496f7e7e9ca   \n",
       "4  15193392  3 secs ago  0xbf5523b608a0b2e6a1ac553191d881d7de8318cb   \n",
       "\n",
       "                                           To         Value       Txn Fee  \n",
       "0  0xfb57ba87b4be65337352f31cc83899e069f19434         0 ETH  4.580000e-06  \n",
       "1  0x000000000022d473030f116ddee9f6b43ac78ba3         0 ETH  7.000000e-08  \n",
       "2    Uniswap: Universal Router V1 2 V2Support         0 ETH  2.600000e-07  \n",
       "3    Uniswap: Universal Router V1 2 V2Support     0.027 ETH  2.600000e-07  \n",
       "4  0x34ee9c5307d2bbcbf0c961b14eea7faaaa2dbf21  0.000777 ETH  1.900000e-07  "
      ]
     },
     "execution_count": 11,
     "metadata": {},
     "output_type": "execute_result"
    }
   ],
   "source": [
    "df.head()"
   ]
  },
  {
   "cell_type": "code",
   "execution_count": 29,
   "metadata": {},
   "outputs": [
    {
     "name": "stdout",
     "output_type": "stream",
     "text": [
      "To\n",
      "0xce4cf0d5da97b7f4de1ba76609f2a1330411e7c0    121\n",
      "Name: count, dtype: int64\n"
     ]
    }
   ],
   "source": [
    "pd.set_option('display.max_rows', None)\n",
    "# count = df['From'].value_counts()\n",
    "# print(df.shape)\n",
    "# print(count)\n",
    "filtered_df = df[df['From'] == '0x9c71226863d3db3a7de3402e3743fea8026dc9e0']\n",
    "count = filtered_df['To'].value_counts()\n",
    "print(count)"
   ]
  },
  {
   "cell_type": "code",
   "execution_count": 15,
   "metadata": {},
   "outputs": [
    {
     "data": {
      "text/html": [
       "<div>\n",
       "<style scoped>\n",
       "    .dataframe tbody tr th:only-of-type {\n",
       "        vertical-align: middle;\n",
       "    }\n",
       "\n",
       "    .dataframe tbody tr th {\n",
       "        vertical-align: top;\n",
       "    }\n",
       "\n",
       "    .dataframe thead th {\n",
       "        text-align: right;\n",
       "    }\n",
       "</style>\n",
       "<table border=\"1\" class=\"dataframe\">\n",
       "  <thead>\n",
       "    <tr style=\"text-align: right;\">\n",
       "      <th></th>\n",
       "      <th>Txn Hash</th>\n",
       "      <th>Method</th>\n",
       "      <th>Block</th>\n",
       "      <th>Age</th>\n",
       "      <th>From</th>\n",
       "      <th>To</th>\n",
       "      <th>Value</th>\n",
       "      <th>Txn Fee</th>\n",
       "    </tr>\n",
       "  </thead>\n",
       "  <tbody>\n",
       "    <tr>\n",
       "      <th>2</th>\n",
       "      <td>0x211f0142b54da17a0109ebd279c5aec7e0831dd9e5fc...</td>\n",
       "      <td>Execute</td>\n",
       "      <td>15193392</td>\n",
       "      <td>3 secs ago</td>\n",
       "      <td>0xf3780b2e60306eeafd5c6b7381a0c141d7c3c378</td>\n",
       "      <td>Uniswap: Universal Router V1 2 V2Support</td>\n",
       "      <td>0 ETH</td>\n",
       "      <td>2.600000e-07</td>\n",
       "    </tr>\n",
       "  </tbody>\n",
       "</table>\n",
       "</div>"
      ],
      "text/plain": [
       "                                            Txn Hash   Method     Block  \\\n",
       "2  0x211f0142b54da17a0109ebd279c5aec7e0831dd9e5fc...  Execute  15193392   \n",
       "\n",
       "          Age                                        From  \\\n",
       "2  3 secs ago  0xf3780b2e60306eeafd5c6b7381a0c141d7c3c378   \n",
       "\n",
       "                                         To  Value       Txn Fee  \n",
       "2  Uniswap: Universal Router V1 2 V2Support  0 ETH  2.600000e-07  "
      ]
     },
     "execution_count": 15,
     "metadata": {},
     "output_type": "execute_result"
    }
   ],
   "source": [
    "#find the first row where to == Uniswap: Universal Router V1 2 V2Support\n",
    "df.loc[df['To'] == 'Uniswap: Universal Router V1 2 V2Support'].head(1)"
   ]
  },
  {
   "cell_type": "code",
   "execution_count": 23,
   "metadata": {},
   "outputs": [],
   "source": [
    "import requests\n",
    "\n",
    "address = '0xf3780b2e60306eeafd5c6b7381a0c141d7c3c378'\n",
    "\n",
    "url = f\"\"\"https://api.basescan.org/api?module=contract&action=getabi&address={address}&apikey={s.base_scan_api_key}\"\"\"\n",
    "\n",
    "response = requests.get(url)"
   ]
  },
  {
   "cell_type": "code",
   "execution_count": 24,
   "metadata": {},
   "outputs": [
    {
     "data": {
      "text/plain": [
       "{'status': '0',\n",
       " 'message': 'NOTOK',\n",
       " 'result': 'Contract source code not verified'}"
      ]
     },
     "execution_count": 24,
     "metadata": {},
     "output_type": "execute_result"
    }
   ],
   "source": [
    "response.json()"
   ]
  },
  {
   "cell_type": "code",
   "execution_count": null,
   "metadata": {},
   "outputs": [],
   "source": []
  },
  {
   "cell_type": "markdown",
   "metadata": {},
   "source": []
  },
  {
   "cell_type": "code",
   "execution_count": null,
   "metadata": {},
   "outputs": [],
   "source": []
  }
 ],
 "metadata": {
  "kernelspec": {
   "display_name": "venv",
   "language": "python",
   "name": "python3"
  },
  "language_info": {
   "codemirror_mode": {
    "name": "ipython",
    "version": 3
   },
   "file_extension": ".py",
   "mimetype": "text/x-python",
   "name": "python",
   "nbconvert_exporter": "python",
   "pygments_lexer": "ipython3",
   "version": "3.11.3"
  }
 },
 "nbformat": 4,
 "nbformat_minor": 2
}
